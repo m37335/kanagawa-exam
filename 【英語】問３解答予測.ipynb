{
  "nbformat": 4,
  "nbformat_minor": 0,
  "metadata": {
    "colab": {
      "name": "【英語】問３解答予測.ipynb",
      "provenance": [],
      "authorship_tag": "ABX9TyPXY7dFCSJw8Cy5guTRocu9",
      "include_colab_link": true
    },
    "kernelspec": {
      "name": "python3",
      "display_name": "Python 3"
    },
    "language_info": {
      "name": "python"
    },
    "accelerator": "GPU"
  },
  "cells": [
    {
      "cell_type": "markdown",
      "metadata": {
        "id": "view-in-github",
        "colab_type": "text"
      },
      "source": [
        "<a href=\"https://colab.research.google.com/github/m37335/kanagawa-exam/blob/master/%E3%80%90%E8%8B%B1%E8%AA%9E%E3%80%91%E5%95%8F%EF%BC%93%E8%A7%A3%E7%AD%94%E4%BA%88%E6%B8%AC.ipynb\" target=\"_parent\"><img src=\"https://colab.research.google.com/assets/colab-badge.svg\" alt=\"Open In Colab\"/></a>"
      ]
    },
    {
      "cell_type": "code",
      "metadata": {
        "colab": {
          "base_uri": "https://localhost:8080/"
        },
        "id": "jFzLal94TxNr",
        "outputId": "9724e948-b714-4735-81b8-876887f56fb3"
      },
      "source": [
        "!pip install transformers\n",
        "!pip install stanza"
      ],
      "execution_count": 2,
      "outputs": [
        {
          "output_type": "stream",
          "text": [
            "Collecting transformers\n",
            "\u001b[?25l  Downloading https://files.pythonhosted.org/packages/d8/b2/57495b5309f09fa501866e225c84532d1fd89536ea62406b2181933fb418/transformers-4.5.1-py3-none-any.whl (2.1MB)\n",
            "\r\u001b[K     |▏                               | 10kB 21.9MB/s eta 0:00:01\r\u001b[K     |▎                               | 20kB 29.4MB/s eta 0:00:01\r\u001b[K     |▌                               | 30kB 21.5MB/s eta 0:00:01\r\u001b[K     |▋                               | 40kB 25.1MB/s eta 0:00:01\r\u001b[K     |▉                               | 51kB 24.4MB/s eta 0:00:01\r\u001b[K     |█                               | 61kB 27.2MB/s eta 0:00:01\r\u001b[K     |█▏                              | 71kB 18.2MB/s eta 0:00:01\r\u001b[K     |█▎                              | 81kB 19.2MB/s eta 0:00:01\r\u001b[K     |█▍                              | 92kB 18.2MB/s eta 0:00:01\r\u001b[K     |█▋                              | 102kB 18.2MB/s eta 0:00:01\r\u001b[K     |█▊                              | 112kB 18.2MB/s eta 0:00:01\r\u001b[K     |██                              | 122kB 18.2MB/s eta 0:00:01\r\u001b[K     |██                              | 133kB 18.2MB/s eta 0:00:01\r\u001b[K     |██▎                             | 143kB 18.2MB/s eta 0:00:01\r\u001b[K     |██▍                             | 153kB 18.2MB/s eta 0:00:01\r\u001b[K     |██▌                             | 163kB 18.2MB/s eta 0:00:01\r\u001b[K     |██▊                             | 174kB 18.2MB/s eta 0:00:01\r\u001b[K     |██▉                             | 184kB 18.2MB/s eta 0:00:01\r\u001b[K     |███                             | 194kB 18.2MB/s eta 0:00:01\r\u001b[K     |███▏                            | 204kB 18.2MB/s eta 0:00:01\r\u001b[K     |███▍                            | 215kB 18.2MB/s eta 0:00:01\r\u001b[K     |███▌                            | 225kB 18.2MB/s eta 0:00:01\r\u001b[K     |███▋                            | 235kB 18.2MB/s eta 0:00:01\r\u001b[K     |███▉                            | 245kB 18.2MB/s eta 0:00:01\r\u001b[K     |████                            | 256kB 18.2MB/s eta 0:00:01\r\u001b[K     |████▏                           | 266kB 18.2MB/s eta 0:00:01\r\u001b[K     |████▎                           | 276kB 18.2MB/s eta 0:00:01\r\u001b[K     |████▌                           | 286kB 18.2MB/s eta 0:00:01\r\u001b[K     |████▋                           | 296kB 18.2MB/s eta 0:00:01\r\u001b[K     |████▊                           | 307kB 18.2MB/s eta 0:00:01\r\u001b[K     |█████                           | 317kB 18.2MB/s eta 0:00:01\r\u001b[K     |█████                           | 327kB 18.2MB/s eta 0:00:01\r\u001b[K     |█████▎                          | 337kB 18.2MB/s eta 0:00:01\r\u001b[K     |█████▍                          | 348kB 18.2MB/s eta 0:00:01\r\u001b[K     |█████▋                          | 358kB 18.2MB/s eta 0:00:01\r\u001b[K     |█████▊                          | 368kB 18.2MB/s eta 0:00:01\r\u001b[K     |█████▉                          | 378kB 18.2MB/s eta 0:00:01\r\u001b[K     |██████                          | 389kB 18.2MB/s eta 0:00:01\r\u001b[K     |██████▏                         | 399kB 18.2MB/s eta 0:00:01\r\u001b[K     |██████▍                         | 409kB 18.2MB/s eta 0:00:01\r\u001b[K     |██████▌                         | 419kB 18.2MB/s eta 0:00:01\r\u001b[K     |██████▊                         | 430kB 18.2MB/s eta 0:00:01\r\u001b[K     |██████▉                         | 440kB 18.2MB/s eta 0:00:01\r\u001b[K     |███████                         | 450kB 18.2MB/s eta 0:00:01\r\u001b[K     |███████▏                        | 460kB 18.2MB/s eta 0:00:01\r\u001b[K     |███████▎                        | 471kB 18.2MB/s eta 0:00:01\r\u001b[K     |███████▌                        | 481kB 18.2MB/s eta 0:00:01\r\u001b[K     |███████▋                        | 491kB 18.2MB/s eta 0:00:01\r\u001b[K     |███████▉                        | 501kB 18.2MB/s eta 0:00:01\r\u001b[K     |████████                        | 512kB 18.2MB/s eta 0:00:01\r\u001b[K     |████████                        | 522kB 18.2MB/s eta 0:00:01\r\u001b[K     |████████▎                       | 532kB 18.2MB/s eta 0:00:01\r\u001b[K     |████████▍                       | 542kB 18.2MB/s eta 0:00:01\r\u001b[K     |████████▋                       | 552kB 18.2MB/s eta 0:00:01\r\u001b[K     |████████▊                       | 563kB 18.2MB/s eta 0:00:01\r\u001b[K     |█████████                       | 573kB 18.2MB/s eta 0:00:01\r\u001b[K     |█████████                       | 583kB 18.2MB/s eta 0:00:01\r\u001b[K     |█████████▎                      | 593kB 18.2MB/s eta 0:00:01\r\u001b[K     |█████████▍                      | 604kB 18.2MB/s eta 0:00:01\r\u001b[K     |█████████▌                      | 614kB 18.2MB/s eta 0:00:01\r\u001b[K     |█████████▊                      | 624kB 18.2MB/s eta 0:00:01\r\u001b[K     |█████████▉                      | 634kB 18.2MB/s eta 0:00:01\r\u001b[K     |██████████                      | 645kB 18.2MB/s eta 0:00:01\r\u001b[K     |██████████▏                     | 655kB 18.2MB/s eta 0:00:01\r\u001b[K     |██████████▍                     | 665kB 18.2MB/s eta 0:00:01\r\u001b[K     |██████████▌                     | 675kB 18.2MB/s eta 0:00:01\r\u001b[K     |██████████▋                     | 686kB 18.2MB/s eta 0:00:01\r\u001b[K     |██████████▉                     | 696kB 18.2MB/s eta 0:00:01\r\u001b[K     |███████████                     | 706kB 18.2MB/s eta 0:00:01\r\u001b[K     |███████████▏                    | 716kB 18.2MB/s eta 0:00:01\r\u001b[K     |███████████▎                    | 727kB 18.2MB/s eta 0:00:01\r\u001b[K     |███████████▌                    | 737kB 18.2MB/s eta 0:00:01\r\u001b[K     |███████████▋                    | 747kB 18.2MB/s eta 0:00:01\r\u001b[K     |███████████▊                    | 757kB 18.2MB/s eta 0:00:01\r\u001b[K     |████████████                    | 768kB 18.2MB/s eta 0:00:01\r\u001b[K     |████████████                    | 778kB 18.2MB/s eta 0:00:01\r\u001b[K     |████████████▎                   | 788kB 18.2MB/s eta 0:00:01\r\u001b[K     |████████████▍                   | 798kB 18.2MB/s eta 0:00:01\r\u001b[K     |████████████▋                   | 808kB 18.2MB/s eta 0:00:01\r\u001b[K     |████████████▊                   | 819kB 18.2MB/s eta 0:00:01\r\u001b[K     |████████████▉                   | 829kB 18.2MB/s eta 0:00:01\r\u001b[K     |█████████████                   | 839kB 18.2MB/s eta 0:00:01\r\u001b[K     |█████████████▏                  | 849kB 18.2MB/s eta 0:00:01\r\u001b[K     |█████████████▍                  | 860kB 18.2MB/s eta 0:00:01\r\u001b[K     |█████████████▌                  | 870kB 18.2MB/s eta 0:00:01\r\u001b[K     |█████████████▊                  | 880kB 18.2MB/s eta 0:00:01\r\u001b[K     |█████████████▉                  | 890kB 18.2MB/s eta 0:00:01\r\u001b[K     |██████████████                  | 901kB 18.2MB/s eta 0:00:01\r\u001b[K     |██████████████▏                 | 911kB 18.2MB/s eta 0:00:01\r\u001b[K     |██████████████▎                 | 921kB 18.2MB/s eta 0:00:01\r\u001b[K     |██████████████▌                 | 931kB 18.2MB/s eta 0:00:01\r\u001b[K     |██████████████▋                 | 942kB 18.2MB/s eta 0:00:01\r\u001b[K     |██████████████▉                 | 952kB 18.2MB/s eta 0:00:01\r\u001b[K     |███████████████                 | 962kB 18.2MB/s eta 0:00:01\r\u001b[K     |███████████████                 | 972kB 18.2MB/s eta 0:00:01\r\u001b[K     |███████████████▎                | 983kB 18.2MB/s eta 0:00:01\r\u001b[K     |███████████████▍                | 993kB 18.2MB/s eta 0:00:01\r\u001b[K     |███████████████▋                | 1.0MB 18.2MB/s eta 0:00:01\r\u001b[K     |███████████████▊                | 1.0MB 18.2MB/s eta 0:00:01\r\u001b[K     |████████████████                | 1.0MB 18.2MB/s eta 0:00:01\r\u001b[K     |████████████████                | 1.0MB 18.2MB/s eta 0:00:01\r\u001b[K     |████████████████▏               | 1.0MB 18.2MB/s eta 0:00:01\r\u001b[K     |████████████████▍               | 1.1MB 18.2MB/s eta 0:00:01\r\u001b[K     |████████████████▌               | 1.1MB 18.2MB/s eta 0:00:01\r\u001b[K     |████████████████▊               | 1.1MB 18.2MB/s eta 0:00:01\r\u001b[K     |████████████████▉               | 1.1MB 18.2MB/s eta 0:00:01\r\u001b[K     |█████████████████               | 1.1MB 18.2MB/s eta 0:00:01\r\u001b[K     |█████████████████▏              | 1.1MB 18.2MB/s eta 0:00:01\r\u001b[K     |█████████████████▍              | 1.1MB 18.2MB/s eta 0:00:01\r\u001b[K     |█████████████████▌              | 1.1MB 18.2MB/s eta 0:00:01\r\u001b[K     |█████████████████▋              | 1.1MB 18.2MB/s eta 0:00:01\r\u001b[K     |█████████████████▉              | 1.1MB 18.2MB/s eta 0:00:01\r\u001b[K     |██████████████████              | 1.2MB 18.2MB/s eta 0:00:01\r\u001b[K     |██████████████████▏             | 1.2MB 18.2MB/s eta 0:00:01\r\u001b[K     |██████████████████▎             | 1.2MB 18.2MB/s eta 0:00:01\r\u001b[K     |██████████████████▌             | 1.2MB 18.2MB/s eta 0:00:01\r\u001b[K     |██████████████████▋             | 1.2MB 18.2MB/s eta 0:00:01\r\u001b[K     |██████████████████▊             | 1.2MB 18.2MB/s eta 0:00:01\r\u001b[K     |███████████████████             | 1.2MB 18.2MB/s eta 0:00:01\r\u001b[K     |███████████████████             | 1.2MB 18.2MB/s eta 0:00:01\r\u001b[K     |███████████████████▎            | 1.2MB 18.2MB/s eta 0:00:01\r\u001b[K     |███████████████████▍            | 1.2MB 18.2MB/s eta 0:00:01\r\u001b[K     |███████████████████▋            | 1.3MB 18.2MB/s eta 0:00:01\r\u001b[K     |███████████████████▊            | 1.3MB 18.2MB/s eta 0:00:01\r\u001b[K     |███████████████████▉            | 1.3MB 18.2MB/s eta 0:00:01\r\u001b[K     |████████████████████            | 1.3MB 18.2MB/s eta 0:00:01\r\u001b[K     |████████████████████▏           | 1.3MB 18.2MB/s eta 0:00:01\r\u001b[K     |████████████████████▍           | 1.3MB 18.2MB/s eta 0:00:01\r\u001b[K     |████████████████████▌           | 1.3MB 18.2MB/s eta 0:00:01\r\u001b[K     |████████████████████▊           | 1.3MB 18.2MB/s eta 0:00:01\r\u001b[K     |████████████████████▉           | 1.3MB 18.2MB/s eta 0:00:01\r\u001b[K     |█████████████████████           | 1.4MB 18.2MB/s eta 0:00:01\r\u001b[K     |█████████████████████▏          | 1.4MB 18.2MB/s eta 0:00:01\r\u001b[K     |█████████████████████▎          | 1.4MB 18.2MB/s eta 0:00:01\r\u001b[K     |█████████████████████▌          | 1.4MB 18.2MB/s eta 0:00:01\r\u001b[K     |█████████████████████▋          | 1.4MB 18.2MB/s eta 0:00:01\r\u001b[K     |█████████████████████▉          | 1.4MB 18.2MB/s eta 0:00:01\r\u001b[K     |██████████████████████          | 1.4MB 18.2MB/s eta 0:00:01\r\u001b[K     |██████████████████████          | 1.4MB 18.2MB/s eta 0:00:01\r\u001b[K     |██████████████████████▎         | 1.4MB 18.2MB/s eta 0:00:01\r\u001b[K     |██████████████████████▍         | 1.4MB 18.2MB/s eta 0:00:01\r\u001b[K     |██████████████████████▋         | 1.5MB 18.2MB/s eta 0:00:01\r\u001b[K     |██████████████████████▊         | 1.5MB 18.2MB/s eta 0:00:01\r\u001b[K     |███████████████████████         | 1.5MB 18.2MB/s eta 0:00:01\r\u001b[K     |███████████████████████         | 1.5MB 18.2MB/s eta 0:00:01\r\u001b[K     |███████████████████████▏        | 1.5MB 18.2MB/s eta 0:00:01\r\u001b[K     |███████████████████████▍        | 1.5MB 18.2MB/s eta 0:00:01\r\u001b[K     |███████████████████████▌        | 1.5MB 18.2MB/s eta 0:00:01\r\u001b[K     |███████████████████████▊        | 1.5MB 18.2MB/s eta 0:00:01\r\u001b[K     |███████████████████████▉        | 1.5MB 18.2MB/s eta 0:00:01\r\u001b[K     |████████████████████████        | 1.5MB 18.2MB/s eta 0:00:01\r\u001b[K     |████████████████████████▏       | 1.6MB 18.2MB/s eta 0:00:01\r\u001b[K     |████████████████████████▎       | 1.6MB 18.2MB/s eta 0:00:01\r\u001b[K     |████████████████████████▌       | 1.6MB 18.2MB/s eta 0:00:01\r\u001b[K     |████████████████████████▋       | 1.6MB 18.2MB/s eta 0:00:01\r\u001b[K     |████████████████████████▉       | 1.6MB 18.2MB/s eta 0:00:01\r\u001b[K     |█████████████████████████       | 1.6MB 18.2MB/s eta 0:00:01\r\u001b[K     |█████████████████████████▏      | 1.6MB 18.2MB/s eta 0:00:01\r\u001b[K     |█████████████████████████▎      | 1.6MB 18.2MB/s eta 0:00:01\r\u001b[K     |█████████████████████████▍      | 1.6MB 18.2MB/s eta 0:00:01\r\u001b[K     |█████████████████████████▋      | 1.6MB 18.2MB/s eta 0:00:01\r\u001b[K     |█████████████████████████▊      | 1.7MB 18.2MB/s eta 0:00:01\r\u001b[K     |██████████████████████████      | 1.7MB 18.2MB/s eta 0:00:01\r\u001b[K     |██████████████████████████      | 1.7MB 18.2MB/s eta 0:00:01\r\u001b[K     |██████████████████████████▎     | 1.7MB 18.2MB/s eta 0:00:01\r\u001b[K     |██████████████████████████▍     | 1.7MB 18.2MB/s eta 0:00:01\r\u001b[K     |██████████████████████████▋     | 1.7MB 18.2MB/s eta 0:00:01\r\u001b[K     |██████████████████████████▊     | 1.7MB 18.2MB/s eta 0:00:01\r\u001b[K     |██████████████████████████▉     | 1.7MB 18.2MB/s eta 0:00:01\r\u001b[K     |███████████████████████████     | 1.7MB 18.2MB/s eta 0:00:01\r\u001b[K     |███████████████████████████▏    | 1.8MB 18.2MB/s eta 0:00:01\r\u001b[K     |███████████████████████████▍    | 1.8MB 18.2MB/s eta 0:00:01\r\u001b[K     |███████████████████████████▌    | 1.8MB 18.2MB/s eta 0:00:01\r\u001b[K     |███████████████████████████▊    | 1.8MB 18.2MB/s eta 0:00:01\r\u001b[K     |███████████████████████████▉    | 1.8MB 18.2MB/s eta 0:00:01\r\u001b[K     |████████████████████████████    | 1.8MB 18.2MB/s eta 0:00:01\r\u001b[K     |████████████████████████████▏   | 1.8MB 18.2MB/s eta 0:00:01\r\u001b[K     |████████████████████████████▎   | 1.8MB 18.2MB/s eta 0:00:01\r\u001b[K     |████████████████████████████▌   | 1.8MB 18.2MB/s eta 0:00:01\r\u001b[K     |████████████████████████████▋   | 1.8MB 18.2MB/s eta 0:00:01\r\u001b[K     |████████████████████████████▉   | 1.9MB 18.2MB/s eta 0:00:01\r\u001b[K     |█████████████████████████████   | 1.9MB 18.2MB/s eta 0:00:01\r\u001b[K     |█████████████████████████████   | 1.9MB 18.2MB/s eta 0:00:01\r\u001b[K     |█████████████████████████████▎  | 1.9MB 18.2MB/s eta 0:00:01\r\u001b[K     |█████████████████████████████▍  | 1.9MB 18.2MB/s eta 0:00:01\r\u001b[K     |█████████████████████████████▋  | 1.9MB 18.2MB/s eta 0:00:01\r\u001b[K     |█████████████████████████████▊  | 1.9MB 18.2MB/s eta 0:00:01\r\u001b[K     |██████████████████████████████  | 1.9MB 18.2MB/s eta 0:00:01\r\u001b[K     |██████████████████████████████  | 1.9MB 18.2MB/s eta 0:00:01\r\u001b[K     |██████████████████████████████▏ | 1.9MB 18.2MB/s eta 0:00:01\r\u001b[K     |██████████████████████████████▍ | 2.0MB 18.2MB/s eta 0:00:01\r\u001b[K     |██████████████████████████████▌ | 2.0MB 18.2MB/s eta 0:00:01\r\u001b[K     |██████████████████████████████▊ | 2.0MB 18.2MB/s eta 0:00:01\r\u001b[K     |██████████████████████████████▉ | 2.0MB 18.2MB/s eta 0:00:01\r\u001b[K     |███████████████████████████████ | 2.0MB 18.2MB/s eta 0:00:01\r\u001b[K     |███████████████████████████████▏| 2.0MB 18.2MB/s eta 0:00:01\r\u001b[K     |███████████████████████████████▎| 2.0MB 18.2MB/s eta 0:00:01\r\u001b[K     |███████████████████████████████▌| 2.0MB 18.2MB/s eta 0:00:01\r\u001b[K     |███████████████████████████████▋| 2.0MB 18.2MB/s eta 0:00:01\r\u001b[K     |███████████████████████████████▉| 2.0MB 18.2MB/s eta 0:00:01\r\u001b[K     |████████████████████████████████| 2.1MB 18.2MB/s eta 0:00:01\r\u001b[K     |████████████████████████████████| 2.1MB 18.2MB/s \n",
            "\u001b[?25hRequirement already satisfied: requests in /usr/local/lib/python3.7/dist-packages (from transformers) (2.23.0)\n",
            "Requirement already satisfied: numpy>=1.17 in /usr/local/lib/python3.7/dist-packages (from transformers) (1.19.5)\n",
            "Collecting tokenizers<0.11,>=0.10.1\n",
            "\u001b[?25l  Downloading https://files.pythonhosted.org/packages/ae/04/5b870f26a858552025a62f1649c20d29d2672c02ff3c3fb4c688ca46467a/tokenizers-0.10.2-cp37-cp37m-manylinux2010_x86_64.whl (3.3MB)\n",
            "\u001b[K     |████████████████████████████████| 3.3MB 53.4MB/s \n",
            "\u001b[?25hCollecting sacremoses\n",
            "\u001b[?25l  Downloading https://files.pythonhosted.org/packages/75/ee/67241dc87f266093c533a2d4d3d69438e57d7a90abb216fa076e7d475d4a/sacremoses-0.0.45-py3-none-any.whl (895kB)\n",
            "\u001b[K     |████████████████████████████████| 901kB 50.5MB/s \n",
            "\u001b[?25hRequirement already satisfied: packaging in /usr/local/lib/python3.7/dist-packages (from transformers) (20.9)\n",
            "Requirement already satisfied: filelock in /usr/local/lib/python3.7/dist-packages (from transformers) (3.0.12)\n",
            "Requirement already satisfied: importlib-metadata; python_version < \"3.8\" in /usr/local/lib/python3.7/dist-packages (from transformers) (3.10.1)\n",
            "Requirement already satisfied: tqdm>=4.27 in /usr/local/lib/python3.7/dist-packages (from transformers) (4.41.1)\n",
            "Requirement already satisfied: regex!=2019.12.17 in /usr/local/lib/python3.7/dist-packages (from transformers) (2019.12.20)\n",
            "Requirement already satisfied: chardet<4,>=3.0.2 in /usr/local/lib/python3.7/dist-packages (from requests->transformers) (3.0.4)\n",
            "Requirement already satisfied: idna<3,>=2.5 in /usr/local/lib/python3.7/dist-packages (from requests->transformers) (2.10)\n",
            "Requirement already satisfied: certifi>=2017.4.17 in /usr/local/lib/python3.7/dist-packages (from requests->transformers) (2020.12.5)\n",
            "Requirement already satisfied: urllib3!=1.25.0,!=1.25.1,<1.26,>=1.21.1 in /usr/local/lib/python3.7/dist-packages (from requests->transformers) (1.24.3)\n",
            "Requirement already satisfied: click in /usr/local/lib/python3.7/dist-packages (from sacremoses->transformers) (7.1.2)\n",
            "Requirement already satisfied: six in /usr/local/lib/python3.7/dist-packages (from sacremoses->transformers) (1.15.0)\n",
            "Requirement already satisfied: joblib in /usr/local/lib/python3.7/dist-packages (from sacremoses->transformers) (1.0.1)\n",
            "Requirement already satisfied: pyparsing>=2.0.2 in /usr/local/lib/python3.7/dist-packages (from packaging->transformers) (2.4.7)\n",
            "Requirement already satisfied: typing-extensions>=3.6.4; python_version < \"3.8\" in /usr/local/lib/python3.7/dist-packages (from importlib-metadata; python_version < \"3.8\"->transformers) (3.7.4.3)\n",
            "Requirement already satisfied: zipp>=0.5 in /usr/local/lib/python3.7/dist-packages (from importlib-metadata; python_version < \"3.8\"->transformers) (3.4.1)\n",
            "Installing collected packages: tokenizers, sacremoses, transformers\n",
            "Successfully installed sacremoses-0.0.45 tokenizers-0.10.2 transformers-4.5.1\n",
            "Collecting stanza\n",
            "\u001b[?25l  Downloading https://files.pythonhosted.org/packages/50/ae/a70a58ce6b4e2daad538688806ee0f238dbe601954582a74ea57cde6c532/stanza-1.2-py3-none-any.whl (282kB)\n",
            "\u001b[K     |████████████████████████████████| 286kB 17.5MB/s \n",
            "\u001b[?25hRequirement already satisfied: numpy in /usr/local/lib/python3.7/dist-packages (from stanza) (1.19.5)\n",
            "Requirement already satisfied: tqdm in /usr/local/lib/python3.7/dist-packages (from stanza) (4.41.1)\n",
            "Requirement already satisfied: protobuf in /usr/local/lib/python3.7/dist-packages (from stanza) (3.12.4)\n",
            "Requirement already satisfied: torch>=1.3.0 in /usr/local/lib/python3.7/dist-packages (from stanza) (1.8.1+cu101)\n",
            "Requirement already satisfied: requests in /usr/local/lib/python3.7/dist-packages (from stanza) (2.23.0)\n",
            "Requirement already satisfied: six>=1.9 in /usr/local/lib/python3.7/dist-packages (from protobuf->stanza) (1.15.0)\n",
            "Requirement already satisfied: setuptools in /usr/local/lib/python3.7/dist-packages (from protobuf->stanza) (56.0.0)\n",
            "Requirement already satisfied: typing-extensions in /usr/local/lib/python3.7/dist-packages (from torch>=1.3.0->stanza) (3.7.4.3)\n",
            "Requirement already satisfied: certifi>=2017.4.17 in /usr/local/lib/python3.7/dist-packages (from requests->stanza) (2020.12.5)\n",
            "Requirement already satisfied: urllib3!=1.25.0,!=1.25.1,<1.26,>=1.21.1 in /usr/local/lib/python3.7/dist-packages (from requests->stanza) (1.24.3)\n",
            "Requirement already satisfied: idna<3,>=2.5 in /usr/local/lib/python3.7/dist-packages (from requests->stanza) (2.10)\n",
            "Requirement already satisfied: chardet<4,>=3.0.2 in /usr/local/lib/python3.7/dist-packages (from requests->stanza) (3.0.4)\n",
            "Installing collected packages: stanza\n",
            "Successfully installed stanza-1.2\n"
          ],
          "name": "stdout"
        }
      ]
    },
    {
      "cell_type": "code",
      "metadata": {
        "colab": {
          "base_uri": "https://localhost:8080/"
        },
        "id": "bfIe3DVZTQwJ",
        "outputId": "80fad119-c30a-4def-c368-17a8caa77c83"
      },
      "source": [
        "import torch\n",
        "from transformers import BertTokenizer, BertForMaskedLM\n",
        "\n",
        "tokenizer = BertTokenizer.from_pretrained('bert-base-uncased')\n",
        "model = BertForMaskedLM.from_pretrained('bert-base-uncased')\n",
        "\n",
        "# stanza\n",
        "import stanza\n",
        "stanza.download('en') # download English model\n",
        "\n",
        "nlp = stanza.Pipeline(lang='en', processors='tokenize,mwt,pos,lemma', use_gpu=True, tokenize_pretokenized=False)"
      ],
      "execution_count": 89,
      "outputs": [
        {
          "output_type": "stream",
          "text": [
            "Some weights of the model checkpoint at bert-base-uncased were not used when initializing BertForMaskedLM: ['cls.seq_relationship.weight', 'cls.seq_relationship.bias']\n",
            "- This IS expected if you are initializing BertForMaskedLM from the checkpoint of a model trained on another task or with another architecture (e.g. initializing a BertForSequenceClassification model from a BertForPreTraining model).\n",
            "- This IS NOT expected if you are initializing BertForMaskedLM from the checkpoint of a model that you expect to be exactly identical (initializing a BertForSequenceClassification model from a BertForSequenceClassification model).\n",
            "Downloading https://raw.githubusercontent.com/stanfordnlp/stanza-resources/master/resources_1.2.0.json: 128kB [00:00, 33.7MB/s]                    \n",
            "2021-05-05 03:41:52 INFO: Downloading default packages for language: en (English)...\n",
            "2021-05-05 03:41:53 INFO: File exists: /root/stanza_resources/en/default.zip.\n",
            "2021-05-05 03:41:57 INFO: Finished downloading models and saved to /root/stanza_resources.\n",
            "2021-05-05 03:41:57 WARNING: Can not find mwt: default from official model list. Ignoring it.\n",
            "2021-05-05 03:41:57 INFO: Loading these models for language: en (English):\n",
            "========================\n",
            "| Processor | Package  |\n",
            "------------------------\n",
            "| tokenize  | combined |\n",
            "| pos       | combined |\n",
            "| lemma     | combined |\n",
            "========================\n",
            "\n",
            "2021-05-05 03:41:57 INFO: Use device: gpu\n",
            "2021-05-05 03:41:57 INFO: Loading: tokenize\n",
            "2021-05-05 03:41:57 INFO: Loading: pos\n",
            "2021-05-05 03:41:58 INFO: Loading: lemma\n",
            "2021-05-05 03:41:58 INFO: Done loading processors!\n"
          ],
          "name": "stderr"
        }
      ]
    },
    {
      "cell_type": "code",
      "metadata": {
        "id": "LVwkN_cfV01_"
      },
      "source": [
        ""
      ],
      "execution_count": 14,
      "outputs": []
    },
    {
      "cell_type": "code",
      "metadata": {
        "id": "UCbcHEsaWGI0"
      },
      "source": [
        "def part3_solver(text, candidate):\n",
        "  possible_answer = []\n",
        "  tokens = []\n",
        "\n",
        "  doc = nlp(text)\n",
        "  for sentence in doc.sentences:\n",
        "    for word in sentence.words:\n",
        "      tokens.append(word.text)\n",
        "  masked_index = tokens.index('*')\n",
        "  tokens[masked_index] = '[MASK]'\n",
        "  tokens = ['[CLS]'] + tokens + ['[SEP]']\n",
        "\n",
        "  print(tokens)\n",
        "\n",
        "  ids = tokenizer.convert_tokens_to_ids(tokens)\n",
        "  ids = torch.tensor(ids).reshape(1, -1)\n",
        "\n",
        "  with torch.no_grad():\n",
        "    outputs = model(ids)\n",
        "    # print(outputs)\n",
        "\n",
        "  predictions = outputs[0]\n",
        "\n",
        "\n",
        "  _, predicted_indexes = torch.topk(predictions[0][masked_index+1], k=20)\n",
        "  predicted_tokens = tokenizer.convert_ids_to_tokens(predicted_indexes.tolist())\n",
        "\n",
        "  possible_answer.append(predicted_tokens)\n",
        "  print(possible_answer)\n",
        "  for i, v in enumerate(predicted_tokens):\n",
        "    if v in candidate:\n",
        "      print(i, v)\n",
        "      break"
      ],
      "execution_count": 103,
      "outputs": []
    },
    {
      "cell_type": "code",
      "metadata": {
        "id": "-TVId0abonuZ"
      },
      "source": [
        ""
      ],
      "execution_count": null,
      "outputs": []
    },
    {
      "cell_type": "markdown",
      "metadata": {
        "id": "t5bjbDF8qlVW"
      },
      "source": [
        "### H20（ア）\n",
        "→正解"
      ]
    },
    {
      "cell_type": "code",
      "metadata": {
        "colab": {
          "base_uri": "https://localhost:8080/"
        },
        "id": "1NTA4mx2Tm3y",
        "outputId": "a50fd85f-b708-4b1b-8f8d-edf974bea722"
      },
      "source": [
        "text = \"New computers are * in our English class.\"\n",
        "candidate = ['use', 'uses', 'using', 'used']\n",
        "# 解答used\n",
        "part3_solver(text, candidate)"
      ],
      "execution_count": 104,
      "outputs": [
        {
          "output_type": "stream",
          "text": [
            "['[CLS]', 'New', 'computers', 'are', '[MASK]', 'in', 'our', 'English', 'class', '.', '[SEP]']\n",
            "[['not', 'included', 'used', 'available', 'also', 'now', 'located', 'taught', 'only', 'all', 'always', 'here', 'class', 'currently', 'placed', 'found', 'present', 'listed', 'classes', 'still']]\n",
            "2 used\n"
          ],
          "name": "stdout"
        }
      ]
    },
    {
      "cell_type": "markdown",
      "metadata": {
        "id": "VI19qvc6qrQX"
      },
      "source": [
        "### H16 （ア）\n",
        "→正解"
      ]
    },
    {
      "cell_type": "code",
      "metadata": {
        "colab": {
          "base_uri": "https://localhost:8080/"
        },
        "id": "CT0Q-62hpxaO",
        "outputId": "8fc67892-feef-498c-bd62-4071248ae3ca"
      },
      "source": [
        "text = \"There are a * desks in the room.\"\n",
        "candidate = ['few', 'little', 'many', 'lot']\n",
        "# 解答 few\n",
        "part3_solver(text, candidate)"
      ],
      "execution_count": 106,
      "outputs": [
        {
          "output_type": "stream",
          "text": [
            "['[CLS]', 'There', 'are', 'a', '[MASK]', 'desks', 'in', 'the', 'room', '.', '[SEP]']\n",
            "[['few', 'number', 'small', 'couple', 'single', '[UNK]', 'little', 'thousand', '.', 'constant', 'hundred', 'letter', 'lot', 'large', 'different', 'character', 'and', 'double', '-', 'big']]\n",
            "0 few\n"
          ],
          "name": "stdout"
        }
      ]
    },
    {
      "cell_type": "markdown",
      "metadata": {
        "id": "VyCqRZP8qypC"
      },
      "source": [
        "### H14（イ）\n",
        "→正解"
      ]
    },
    {
      "cell_type": "code",
      "metadata": {
        "colab": {
          "base_uri": "https://localhost:8080/"
        },
        "id": "0YGuAPXrqFR2",
        "outputId": "5e949700-2843-4587-934c-5df6b00fc66e"
      },
      "source": [
        "text = \"Many places in Japan have a * season called tsuyu which comes before summer. It may not be a good season for traveling.\"\n",
        "candidate = ['holiday', 'baseball', 'rainy', 'right']\n",
        "# 解答 rainy\n",
        "part3_solver(text, candidate)"
      ],
      "execution_count": 107,
      "outputs": [
        {
          "output_type": "stream",
          "text": [
            "['[CLS]', 'Many', 'places', 'in', 'Japan', 'have', 'a', '[MASK]', 'season', 'called', 'tsuyu', 'which', 'comes', 'before', 'summer', '.', 'It', 'may', 'not', 'be', 'a', 'good', 'season', 'for', 'traveling', '.', '[SEP]']\n",
            "[['dry', 'rainy', 'summer', 'long', 'hot', 'winter', 'special', 'good', 'seasonal', 'cold', 'busy', 'short', 'warm', 'cool', 'new', 'wet', 'bad', 'spring', 'different', 'monsoon']]\n",
            "1 rainy\n"
          ],
          "name": "stdout"
        }
      ]
    },
    {
      "cell_type": "markdown",
      "metadata": {
        "id": "zV8bpS6Vq6Gt"
      },
      "source": [
        "### H28（エ）\n",
        "→不正解  \n",
        "２単語以上の予測はできない。"
      ]
    },
    {
      "cell_type": "code",
      "metadata": {
        "colab": {
          "base_uri": "https://localhost:8080/"
        },
        "id": "qvqftP_bqjkF",
        "outputId": "cd2b6f7b-13d4-49d4-cfd4-3b4763a93b1c"
      },
      "source": [
        "text = \"The food that you bought yesterday * in a week.\"\n",
        "candidate = ['should eat', 'should be eaten', 'has to eat', 'has eaten']\n",
        "# 解答 should be eaten\n",
        "part3_solver(text, candidate)"
      ],
      "execution_count": 108,
      "outputs": [
        {
          "output_type": "stream",
          "text": [
            "['[CLS]', 'The', 'food', 'that', 'you', 'bought', 'yesterday', '[MASK]', 'in', 'a', 'week', '.', '[SEP]']\n",
            "[['and', ',', 'morning', 'or', '.', '...', 'once', 'twice', '##s', '-', 'back', 'afternoon', 'is', 'was', 'came', '?', 'day', 'but', 'maybe', 'sometime']]\n"
          ],
          "name": "stdout"
        }
      ]
    },
    {
      "cell_type": "code",
      "metadata": {
        "id": "4FVl3W8srT_T"
      },
      "source": [
        ""
      ],
      "execution_count": null,
      "outputs": []
    }
  ]
}